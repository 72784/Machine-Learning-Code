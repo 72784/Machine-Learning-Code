{
 "cells": [
  {
   "cell_type": "code",
   "execution_count": 1,
   "id": "4b90b830",
   "metadata": {},
   "outputs": [],
   "source": [
    "import pandas as pd\n",
    "import dask.dataframe as dd\n",
    "import numpy as np\n",
    "import os"
   ]
  },
  {
   "cell_type": "code",
   "execution_count": 2,
   "id": "c21ef0c0",
   "metadata": {
    "scrolled": true
   },
   "outputs": [
    {
     "name": "stdout",
     "output_type": "stream",
     "text": [
      "🚀 Loading MIMIC-III Data with Dask...\n",
      "✅ MIMIC-III Data Successfully Loaded with Correct Data Types!\n"
     ]
    }
   ],
   "source": [
    "import dask.dataframe as dd\n",
    "import os\n",
    "\n",
    "# Define MIMIC-III dataset folder\n",
    "MIMIC_PATH = \"../mimic\"\n",
    "\n",
    "# Define file paths\n",
    "ADMISSIONS_FILE = os.path.join(MIMIC_PATH, \"ADMISSIONS.csv\")\n",
    "ICUSTAYS_FILE = os.path.join(MIMIC_PATH, \"ICUSTAYS.csv\")\n",
    "PATIENTS_FILE = os.path.join(MIMIC_PATH, \"PATIENTS.csv\")\n",
    "LABEVENTS_FILE = os.path.join(MIMIC_PATH, \"LABEVENTS.csv\")\n",
    "D_ITEMS_FILE = os.path.join(MIMIC_PATH, \"D_ITEMS.csv\")\n",
    "CHARTEVENTS_FILE = os.path.join(MIMIC_PATH, \"CHARTEVENTS.csv\")\n",
    "OUTPUTEVENTS_FILE = os.path.join(MIMIC_PATH, \"OUTPUTEVENTS.csv\")\n",
    "INPUTEVENTS_MV_FILE = os.path.join(MIMIC_PATH, \"INPUTEVENTS_MV.csv\")\n",
    "\n",
    "print(\"🚀 Loading MIMIC-III Data with Dask...\")\n",
    "\n",
    "# 🔹 **Explicitly define data types (fix ambiguous columns)**\n",
    "dtype_mapping = {\n",
    "    \"SUBJECT_ID\": \"int64\",\n",
    "    \"HADM_ID\": \"float64\",\n",
    "    \"ICUSTAY_ID\": \"float64\",\n",
    "    \"ACTUALHOSPITALMORTALITY\": \"int64\",\n",
    "    \"AGE\": \"float64\",\n",
    "    \"GENDER\": \"object\",  # Gender is categorical (M/F)\n",
    "    \"VALUE\": \"object\",  # Some values might be text (e.g., 'ART')\n",
    "    \"ITEMID\": \"int64\",  # Lab Test IDs should be integers\n",
    "    \"VALUENUM\": \"float64\",  # Ensure numeric lab values\n",
    "    \"CHARTTIME\": \"object\"  # Timestamp should be parsed separately\n",
    "}\n",
    "\n",
    "# 🔹 **Load CSV files with correct dtypes**\n",
    "admissions_df = dd.read_csv(ADMISSIONS_FILE, dtype=dtype_mapping)\n",
    "icu_stays_df = dd.read_csv(ICUSTAYS_FILE, dtype=dtype_mapping)\n",
    "patients_df = dd.read_csv(PATIENTS_FILE, dtype=dtype_mapping)\n",
    "d_items = pd.read_csv(D_ITEMS_FILE, usecols=[\"ITEMID\", \"LABEL\"])\n",
    "\n",
    "# Handle lab events separately to parse dates\n",
    "lab_df = dd.read_csv(\n",
    "    LABEVENTS_FILE,\n",
    "    usecols=[\"SUBJECT_ID\", \"ITEMID\", \"CHARTTIME\", \"VALUENUM\"],\n",
    "    dtype={\"SUBJECT_ID\": \"int64\", \"ITEMID\": \"int64\", \"VALUENUM\": \"object\"},  # Handle potential text values\n",
    "    parse_dates=[\"CHARTTIME\"],\n",
    "    low_memory=False\n",
    ")\n",
    "\n",
    "# Convert `VALUENUM` to numeric safely (non-numeric values become NaN)\n",
    "lab_df[\"VALUENUM\"] = dd.to_numeric(lab_df[\"VALUENUM\"], errors=\"coerce\")\n",
    "\n",
    "# Load Vitals from CHARTEVENTS\n",
    "vitals_df = dd.read_csv(CHARTEVENTS_FILE, usecols=[\"SUBJECT_ID\", \"ITEMID\", \"VALUENUM\"], low_memory=False)\n",
    "\n",
    "# Load Output Events (e.g., urine output)\n",
    "output_df = dd.read_csv(OUTPUTEVENTS_FILE, usecols=[\"SUBJECT_ID\", \"ITEMID\", \"VALUE\"], dtype={\"VALUE\": \"object\"})\n",
    "\n",
    "# Convert `VALUE` to numeric safely (ignores non-numeric values)\n",
    "output_df[\"VALUE\"] = dd.to_numeric(output_df[\"VALUE\"], errors=\"coerce\")\n",
    "\n",
    "# Load Chart Events (repeated CHARTEVENTS for additional processing)\n",
    "chart_df = dd.read_csv(CHARTEVENTS_FILE, usecols=[\"SUBJECT_ID\", \"ITEMID\", \"VALUENUM\"], low_memory=False)\n",
    "\n",
    "# Load Patient Weight from Input Events\n",
    "inputevents_df = dd.read_csv(INPUTEVENTS_MV_FILE, usecols=[\"SUBJECT_ID\", \"PATIENTWEIGHT\"])\n",
    "\n",
    "print(\"✅ MIMIC-III Data Successfully Loaded with Correct Data Types!\")"
   ]
  },
  {
   "cell_type": "code",
   "execution_count": 3,
   "id": "15cf43ef",
   "metadata": {},
   "outputs": [
    {
     "name": "stdout",
     "output_type": "stream",
     "text": [
      "🧠 GCS Motor-related ITEMIDs:\n",
      "       ITEMID                  LABEL\n",
      "680       453         Motor Deficits\n",
      "681       454         Motor Response\n",
      "8758   227120          Motor Deficit\n",
      "9680   227012      GCSMotor_ApacheIV\n",
      "9746   228404            Motor L Arm\n",
      "9747   228405            Motor L Leg\n",
      "9748   228406            Motor R Arm\n",
      "9749   228407            Motor R Leg\n",
      "12038  223901   GCS - Motor Response\n",
      "12482  226757  GCSMotorApacheIIValue\n"
     ]
    }
   ],
   "source": [
    "motor_items = d_items[d_items[\"LABEL\"].str.contains(\"motor\", case=False, na=False)]\n",
    "\n",
    "print(\"🧠 GCS Motor-related ITEMIDs:\")\n",
    "print(motor_items)"
   ]
  },
  {
   "cell_type": "code",
   "execution_count": 4,
   "id": "44854c21",
   "metadata": {},
   "outputs": [
    {
     "name": "stdout",
     "output_type": "stream",
     "text": [
      "🚀 Processing ICU Admissions & Mortality Data...\n",
      "✅ ICU Admissions & Mortality Data Merged Successfully with Dask!\n"
     ]
    }
   ],
   "source": [
    "print(\"🚀 Processing ICU Admissions & Mortality Data...\")\n",
    "\n",
    "# Ensure SUBJECT_ID is consistently named as PATIENT_ID\n",
    "icu_stays_df = icu_stays_df.rename(columns={\"SUBJECT_ID\": \"PATIENT_ID\"})\n",
    "admissions_df = admissions_df.rename(columns={\"SUBJECT_ID\": \"PATIENT_ID\"})\n",
    "\n",
    "# Convert ADMITTIME to datetime format\n",
    "admissions_df[\"ADMITTIME\"] = dd.to_datetime(admissions_df[\"ADMITTIME\"], errors=\"coerce\")\n",
    "\n",
    "# Ensure data types match before merging (avoid float64/int64 warnings)\n",
    "admissions_df[\"PATIENT_ID\"] = admissions_df[\"PATIENT_ID\"].astype(\"int64\")\n",
    "admissions_df[\"HADM_ID\"] = admissions_df[\"HADM_ID\"].astype(\"int64\")\n",
    "\n",
    "icu_stays_df[\"PATIENT_ID\"] = icu_stays_df[\"PATIENT_ID\"].astype(\"int64\")\n",
    "icu_stays_df[\"HADM_ID\"] = icu_stays_df[\"HADM_ID\"].astype(\"int64\")\n",
    "\n",
    "# Merge ICU stays with admissions data on PATIENT_ID and HADM_ID\n",
    "mimic_df = icu_stays_df.merge(admissions_df, on=[\"PATIENT_ID\", \"HADM_ID\"], how=\"left\")\n",
    "\n",
    "\n",
    "# Rename hospital mortality flag for clarity\n",
    "mimic_df = mimic_df.rename(columns={\"HOSPITAL_EXPIRE_FLAG\": \"actualhospitalmortality\"})\n",
    "\n",
    "print(\"✅ ICU Admissions & Mortality Data Merged Successfully with Dask!\")"
   ]
  },
  {
   "cell_type": "code",
   "execution_count": 5,
   "id": "70665a47",
   "metadata": {},
   "outputs": [
    {
     "data": {
      "text/plain": [
       "Index(['ROW_ID', 'PATIENT_ID', 'HADM_ID', 'ICUSTAY_ID', 'DBSOURCE',\n",
       "       'FIRST_CAREUNIT', 'LAST_CAREUNIT', 'FIRST_WARDID', 'LAST_WARDID',\n",
       "       'INTIME', 'OUTTIME', 'LOS'],\n",
       "      dtype='object')"
      ]
     },
     "execution_count": 5,
     "metadata": {},
     "output_type": "execute_result"
    }
   ],
   "source": [
    "icu_stays_df.columns"
   ]
  },
  {
   "cell_type": "code",
   "execution_count": 6,
   "id": "cb414ddc",
   "metadata": {
    "scrolled": true
   },
   "outputs": [
    {
     "data": {
      "text/plain": [
       "Index(['ROW_ID_x', 'PATIENT_ID', 'HADM_ID', 'ICUSTAY_ID', 'DBSOURCE',\n",
       "       'FIRST_CAREUNIT', 'LAST_CAREUNIT', 'FIRST_WARDID', 'LAST_WARDID',\n",
       "       'INTIME', 'OUTTIME', 'LOS', 'ROW_ID_y', 'ADMITTIME', 'DISCHTIME',\n",
       "       'DEATHTIME', 'ADMISSION_TYPE', 'ADMISSION_LOCATION',\n",
       "       'DISCHARGE_LOCATION', 'INSURANCE', 'LANGUAGE', 'RELIGION',\n",
       "       'MARITAL_STATUS', 'ETHNICITY', 'EDREGTIME', 'EDOUTTIME', 'DIAGNOSIS',\n",
       "       'actualhospitalmortality', 'HAS_CHARTEVENTS_DATA'],\n",
       "      dtype='object')"
      ]
     },
     "execution_count": 6,
     "metadata": {},
     "output_type": "execute_result"
    }
   ],
   "source": [
    "mimic_df.columns"
   ]
  },
  {
   "cell_type": "code",
   "execution_count": 7,
   "id": "4954d7e4",
   "metadata": {},
   "outputs": [
    {
     "name": "stdout",
     "output_type": "stream",
     "text": [
      "🔄 Converting Dask DataFrame to Pandas...\n",
      "✅ Converted to Pandas!\n"
     ]
    }
   ],
   "source": [
    "# Convert Dask to Pandas\n",
    "print(\"🔄 Converting Dask DataFrame to Pandas...\")\n",
    "mimic_df = mimic_df.compute()\n",
    "print(\"✅ Converted to Pandas!\")"
   ]
  },
  {
   "cell_type": "code",
   "execution_count": 8,
   "id": "ae17a08e",
   "metadata": {
    "scrolled": true
   },
   "outputs": [
    {
     "data": {
      "text/plain": [
       "Index(['ROW_ID_x', 'PATIENT_ID', 'HADM_ID', 'ICUSTAY_ID', 'DBSOURCE',\n",
       "       'FIRST_CAREUNIT', 'LAST_CAREUNIT', 'FIRST_WARDID', 'LAST_WARDID',\n",
       "       'INTIME', 'OUTTIME', 'LOS', 'ROW_ID_y', 'ADMITTIME', 'DISCHTIME',\n",
       "       'DEATHTIME', 'ADMISSION_TYPE', 'ADMISSION_LOCATION',\n",
       "       'DISCHARGE_LOCATION', 'INSURANCE', 'LANGUAGE', 'RELIGION',\n",
       "       'MARITAL_STATUS', 'ETHNICITY', 'EDREGTIME', 'EDOUTTIME', 'DIAGNOSIS',\n",
       "       'actualhospitalmortality', 'HAS_CHARTEVENTS_DATA'],\n",
       "      dtype='object')"
      ]
     },
     "execution_count": 8,
     "metadata": {},
     "output_type": "execute_result"
    }
   ],
   "source": [
    "mimic_df.columns"
   ]
  },
  {
   "cell_type": "code",
   "execution_count": 9,
   "id": "f6d3226f",
   "metadata": {},
   "outputs": [],
   "source": [
    "mimic_df = dd.from_pandas(mimic_df, npartitions=4)"
   ]
  },
  {
   "cell_type": "code",
   "execution_count": 10,
   "id": "7d645add",
   "metadata": {},
   "outputs": [
    {
     "name": "stdout",
     "output_type": "stream",
     "text": [
      "🚀 Extracting & Processing Gender & Age...\n",
      "✅ Gender & Age Features Added Successfully with Dask!\n"
     ]
    }
   ],
   "source": [
    "print(\"🚀 Extracting & Processing Gender & Age...\")\n",
    "\n",
    "# Ensure SUBJECT_ID is consistently named as PATIENT_ID\n",
    "patients_df = patients_df.rename(columns={\"SUBJECT_ID\": \"PATIENT_ID\"})\n",
    "\n",
    "# Convert DOB and ADMITTIME to datetime format\n",
    "patients_df[\"DOB\"] = dd.to_datetime(patients_df[\"DOB\"], errors=\"coerce\")\n",
    "admissions_df[\"ADMITTIME\"] = dd.to_datetime(admissions_df[\"ADMITTIME\"], errors=\"coerce\")\n",
    "\n",
    "# Ensure data types match before merging\n",
    "patients_df[\"PATIENT_ID\"] = patients_df[\"PATIENT_ID\"].astype(\"int64\")\n",
    "admissions_df[\"PATIENT_ID\"] = admissions_df[\"PATIENT_ID\"].astype(\"int64\")\n",
    "\n",
    "# Merge DOB with admissions to calculate AGE\n",
    "patients_df = patients_df.merge(admissions_df[[\"PATIENT_ID\", \"ADMITTIME\"]], on=\"PATIENT_ID\", how=\"left\")\n",
    "\n",
    "# Compute age (year difference)\n",
    "patients_df[\"AGE\"] = patients_df[\"ADMITTIME\"].dt.year - patients_df[\"DOB\"].dt.year\n",
    "\n",
    "# Handle de-identified ages (MIMIC marks ages >= 300 as unknown → Set to 90)\n",
    "patients_df[\"AGE\"] = patients_df[\"AGE\"].map(lambda x: 90 if x >= 300 else x, meta=(\"AGE\", \"int64\"))\n",
    "\n",
    "# Convert `GENDER` to numeric format (M=1, F=0)\n",
    "patients_df[\"GENDER\"] = patients_df[\"GENDER\"].map({\"M\": 1, \"F\": 0}, meta=(\"GENDER\", \"int64\"))\n",
    "\n",
    "# Drop unnecessary columns before merging\n",
    "patients_df = patients_df.drop(columns=[\"DOB\", \"ADMITTIME\"])\n",
    "\n",
    "# Merge Gender & Age into main dataset\n",
    "mimic_df = mimic_df.merge(patients_df, on=\"PATIENT_ID\", how=\"left\")\n",
    "\n",
    "print(\"✅ Gender & Age Features Added Successfully with Dask!\")"
   ]
  },
  {
   "cell_type": "code",
   "execution_count": 11,
   "id": "ee1db139",
   "metadata": {},
   "outputs": [
    {
     "data": {
      "text/plain": [
       "Index(['ROW_ID_x', 'PATIENT_ID', 'HADM_ID', 'ICUSTAY_ID', 'DBSOURCE',\n",
       "       'FIRST_CAREUNIT', 'LAST_CAREUNIT', 'FIRST_WARDID', 'LAST_WARDID',\n",
       "       'INTIME', 'OUTTIME', 'LOS', 'ROW_ID_y', 'ADMITTIME', 'DISCHTIME',\n",
       "       'DEATHTIME', 'ADMISSION_TYPE', 'ADMISSION_LOCATION',\n",
       "       'DISCHARGE_LOCATION', 'INSURANCE', 'LANGUAGE', 'RELIGION',\n",
       "       'MARITAL_STATUS', 'ETHNICITY', 'EDREGTIME', 'EDOUTTIME', 'DIAGNOSIS',\n",
       "       'actualhospitalmortality', 'HAS_CHARTEVENTS_DATA', 'ROW_ID', 'GENDER',\n",
       "       'DOD', 'DOD_HOSP', 'DOD_SSN', 'EXPIRE_FLAG', 'AGE'],\n",
       "      dtype='object')"
      ]
     },
     "execution_count": 11,
     "metadata": {},
     "output_type": "execute_result"
    }
   ],
   "source": [
    "mimic_df.columns"
   ]
  },
  {
   "cell_type": "code",
   "execution_count": 12,
   "id": "c99ed603",
   "metadata": {},
   "outputs": [
    {
     "name": "stdout",
     "output_type": "stream",
     "text": [
      "🚀 Loading & Processing Lab Test Data...\n"
     ]
    },
    {
     "name": "stderr",
     "output_type": "stream",
     "text": [
      "/Users/parthshiroya/anaconda3/lib/python3.11/site-packages/dask/dataframe/dask_expr/_groupby.py:1561: FutureWarning: The default of observed=False is deprecated and will be changed to True in a future version of pandas. Pass observed=False to retain current behavior or observed=True to adopt the future default and silence this warning.\n",
      "  self._meta = self.obj._meta.groupby(\n",
      "/var/folders/qb/06xhfcmx5yzc7t8swxtczfpw0000gn/T/ipykernel_90559/3908468552.py:39: FutureWarning: The default value of observed=False is deprecated and will change to observed=True in a future version of pandas. Specify observed=False to silence this warning and retain the current behavior\n",
      "  lab_mean = lab_mean.pivot_table(index=\"SUBJECT_ID\", columns=\"LABNAME\", values=\"VALUENUM\", aggfunc=\"mean\").reset_index()\n"
     ]
    },
    {
     "name": "stdout",
     "output_type": "stream",
     "text": [
      "✅ Lab Test Data Processed Successfully!\n",
      "LABNAME  PATIENT_ID   mean_pH    ph   mean_BUN   bun  mean_GLUCOSE  glucose\n",
      "0                 2       NaN   NaN        NaN   NaN           NaN      NaN\n",
      "1                 3  7.388958  7.44  33.236842  42.0    121.714286    121.0\n",
      "2                 4  7.396667  7.47  16.754717   9.0    146.294118    140.0\n",
      "3                 5       NaN   NaN        NaN   NaN           NaN      NaN\n",
      "4                 6  7.342000  7.39  38.500000  63.0    117.250000    112.0\n",
      "Columns dropped: []\n",
      "✅ Lab Data Merged Without _x/_y Duplicates!\n"
     ]
    },
    {
     "name": "stderr",
     "output_type": "stream",
     "text": [
      "/var/folders/qb/06xhfcmx5yzc7t8swxtczfpw0000gn/T/ipykernel_90559/3908468552.py:47: FutureWarning: The default of observed=False is deprecated and will be changed to True in a future version of pandas. Pass observed=False to retain current behavior or observed=True to adopt the future default and silence this warning.\n",
      "  first_labs = lab_sub.groupby([\"SUBJECT_ID\", \"LABNAME\"]).first().reset_index()\n"
     ]
    }
   ],
   "source": [
    "import dask.dataframe as dd\n",
    "import pandas as pd\n",
    "import os\n",
    "\n",
    "# 📁 Define MIMIC-III dataset path\n",
    "MIMIC_PATH = \"../mimic\"\n",
    "LABEVENTS_FILE = os.path.join(MIMIC_PATH, \"LABEVENTS.csv\")\n",
    "\n",
    "print(\"🚀 Loading & Processing Lab Test Data...\")\n",
    "\n",
    "# 🧪 Load Lab Events Data\n",
    "lab_df = dd.read_csv(\n",
    "    LABEVENTS_FILE,\n",
    "    usecols=[\"SUBJECT_ID\", \"ITEMID\", \"CHARTTIME\", \"VALUENUM\"],\n",
    "    dtype={\"SUBJECT_ID\": \"int64\", \"ITEMID\": \"int64\", \"VALUENUM\": \"float64\"},\n",
    "    parse_dates=[\"CHARTTIME\"],\n",
    "    low_memory=False\n",
    ")\n",
    "\n",
    "# 🔹 Step 1: Define Lab Test Mapping\n",
    "lab_mapping = {\n",
    "    50912: \"CREATININE\", 50862: \"ALBUMIN\", 50821: \"PAO2\", 50818: \"PCO2\",\n",
    "    51006: \"BUN\", 50931: \"GLUCOSE\", 50885: \"BILIRUBIN\",\n",
    "    50983: \"SODIUM\", 50820: \"PH\", 51300: \"WBC\", 50971: \"Potassium\",\n",
    "    51222: \"Hemoglobin\", 51265: \"PLATELET\"  ,  50813: \"LACTATE\",  \n",
    "    50902: \"CHLORIDE\" \n",
    "}\n",
    "\n",
    "# 🔹 Step 2: Map ITEMID to lab names & filter\n",
    "lab_df[\"LABNAME\"] = lab_df[\"ITEMID\"].map(lab_mapping, meta=(\"LABNAME\", \"str\"))\n",
    "lab_df = lab_df.dropna(subset=[\"LABNAME\"])\n",
    "lab_df[\"LABNAME\"] = lab_df[\"LABNAME\"].astype(\"category\")\n",
    "\n",
    "# 🔹 Step 3: Compute Mean Lab Values per Patient & Lab\n",
    "lab_mean_dd = lab_df.groupby([\"SUBJECT_ID\", \"LABNAME\"])[\"VALUENUM\"].mean()\n",
    "lab_mean = lab_mean_dd.compute().reset_index()\n",
    "\n",
    "# 🔹 Step 4: Safe Pivot using pivot_table (handles duplicates)\n",
    "lab_mean = lab_mean.pivot_table(index=\"SUBJECT_ID\", columns=\"LABNAME\", values=\"VALUENUM\", aggfunc=\"mean\").reset_index()\n",
    "\n",
    "# 🔹 Step 5: Rename for consistency\n",
    "lab_mean = lab_mean.rename(columns={\"SUBJECT_ID\": \"PATIENT_ID\", \"PH\": \"mean_pH\", \"BUN\": \"mean_BUN\", \"GLUCOSE\": \"mean_GLUCOSE\"})\n",
    "\n",
    "# 🔹 Step 6: Extract First Values for PH, BUN, GLUCOSE\n",
    "lab_sub = lab_df[lab_df[\"LABNAME\"].isin([\"PH\", \"BUN\", \"GLUCOSE\"])][[\"SUBJECT_ID\", \"LABNAME\", \"CHARTTIME\", \"VALUENUM\"]]\n",
    "lab_sub = lab_sub.compute().sort_values(by=[\"SUBJECT_ID\", \"LABNAME\", \"CHARTTIME\"])\n",
    "first_labs = lab_sub.groupby([\"SUBJECT_ID\", \"LABNAME\"]).first().reset_index()\n",
    "first_labs = first_labs.pivot(index=\"SUBJECT_ID\", columns=\"LABNAME\", values=\"VALUENUM\").reset_index()\n",
    "first_labs = first_labs.rename(columns={\"SUBJECT_ID\": \"PATIENT_ID\", \"PH\": \"ph\", \"BUN\": \"bun\", \"GLUCOSE\": \"glucose\"})\n",
    "\n",
    "# 🔹 Step 7: Merge mean + first values to get final lab data\n",
    "lab_final = pd.merge(lab_mean, first_labs, on=\"PATIENT_ID\", how=\"left\")\n",
    "\n",
    "print(\"✅ Lab Test Data Processed Successfully!\")\n",
    "print(lab_final[[\"PATIENT_ID\", \"mean_pH\", \"ph\", \"mean_BUN\", \"bun\", \"mean_GLUCOSE\", \"glucose\"]].head())\n",
    "\n",
    "# 🔁 Remove any existing lab columns in mimic_df that also exist in lab_final (ignoring suffixes)\n",
    "# Build a set of lab column names from lab_final, excluding \"PATIENT_ID\"\n",
    "lab_cols = set(lab_final.columns) - {\"PATIENT_ID\"}\n",
    "\n",
    "cols_to_drop = []\n",
    "for col in mimic_df.columns:\n",
    "    # If the column exactly matches a lab column\n",
    "    if col in lab_cols:\n",
    "        cols_to_drop.append(col)\n",
    "    # Also drop if the column ends with _x or _y and its base name is a lab column\n",
    "    elif (col.endswith(\"_x\") or col.endswith(\"_y\")) and col[:-2] in lab_cols:\n",
    "        cols_to_drop.append(col)\n",
    "\n",
    "mimic_df = mimic_df.drop(columns=cols_to_drop)\n",
    "print(\"Columns dropped:\", cols_to_drop)\n",
    "\n",
    "# ✅ Now safely merge the lab data into mimic_df\n",
    "mimic_df = mimic_df.merge(lab_final, on=\"PATIENT_ID\", how=\"left\")\n",
    "print(\"✅ Lab Data Merged Without _x/_y Duplicates!\")"
   ]
  },
  {
   "cell_type": "code",
   "execution_count": 13,
   "id": "18fab109",
   "metadata": {
    "scrolled": true
   },
   "outputs": [
    {
     "data": {
      "text/plain": [
       "Index(['ROW_ID_x', 'PATIENT_ID', 'HADM_ID', 'ICUSTAY_ID', 'DBSOURCE',\n",
       "       'FIRST_CAREUNIT', 'LAST_CAREUNIT', 'FIRST_WARDID', 'LAST_WARDID',\n",
       "       'INTIME', 'OUTTIME', 'LOS', 'ROW_ID_y', 'ADMITTIME', 'DISCHTIME',\n",
       "       'DEATHTIME', 'ADMISSION_TYPE', 'ADMISSION_LOCATION',\n",
       "       'DISCHARGE_LOCATION', 'INSURANCE', 'LANGUAGE', 'RELIGION',\n",
       "       'MARITAL_STATUS', 'ETHNICITY', 'EDREGTIME', 'EDOUTTIME', 'DIAGNOSIS',\n",
       "       'actualhospitalmortality', 'HAS_CHARTEVENTS_DATA', 'ROW_ID', 'GENDER',\n",
       "       'DOD', 'DOD_HOSP', 'DOD_SSN', 'EXPIRE_FLAG', 'AGE', 'ALBUMIN_x',\n",
       "       'BILIRUBIN_x', 'mean_BUN', 'CHLORIDE_x', 'CREATININE_x', 'mean_GLUCOSE',\n",
       "       'Hemoglobin_x', 'LACTATE_x', 'PAO2_x', 'PCO2_x', 'mean_pH',\n",
       "       'PLATELET_x', 'Potassium_x', 'SODIUM_x', 'WBC_x', 'ALBUMIN_y',\n",
       "       'BILIRUBIN_y', 'bun', 'CHLORIDE_y', 'CREATININE_y', 'glucose',\n",
       "       'Hemoglobin_y', 'LACTATE_y', 'PAO2_y', 'PCO2_y', 'ph', 'PLATELET_y',\n",
       "       'Potassium_y', 'SODIUM_y', 'WBC_y'],\n",
       "      dtype='object')"
      ]
     },
     "execution_count": 13,
     "metadata": {},
     "output_type": "execute_result"
    }
   ],
   "source": [
    "mimic_df.columns"
   ]
  },
  {
   "cell_type": "code",
   "execution_count": 14,
   "id": "2547223d",
   "metadata": {},
   "outputs": [],
   "source": [
    "mimic_df = mimic_df.drop(columns=['HEMATOCRIT_y',\n",
    "       'Hemoglobin_y', 'PAO2_y', 'PCO2_y', 'PLATELET_y', 'Potassium_y',\n",
    "       'SODIUM_y', 'WBC_y','ALBUMIN_y',\n",
    "       'BILIRUBIN_y',  'CREATININE_y','LACTATE_y','CHLORIDE_y'], errors=\"ignore\")"
   ]
  },
  {
   "cell_type": "code",
   "execution_count": 15,
   "id": "021fd162",
   "metadata": {
    "scrolled": true
   },
   "outputs": [
    {
     "data": {
      "text/plain": [
       "Index(['ROW_ID_x', 'PATIENT_ID', 'HADM_ID', 'ICUSTAY_ID', 'DBSOURCE',\n",
       "       'FIRST_CAREUNIT', 'LAST_CAREUNIT', 'FIRST_WARDID', 'LAST_WARDID',\n",
       "       'INTIME', 'OUTTIME', 'LOS', 'ROW_ID_y', 'ADMITTIME', 'DISCHTIME',\n",
       "       'DEATHTIME', 'ADMISSION_TYPE', 'ADMISSION_LOCATION',\n",
       "       'DISCHARGE_LOCATION', 'INSURANCE', 'LANGUAGE', 'RELIGION',\n",
       "       'MARITAL_STATUS', 'ETHNICITY', 'EDREGTIME', 'EDOUTTIME', 'DIAGNOSIS',\n",
       "       'actualhospitalmortality', 'HAS_CHARTEVENTS_DATA', 'ROW_ID', 'GENDER',\n",
       "       'DOD', 'DOD_HOSP', 'DOD_SSN', 'EXPIRE_FLAG', 'AGE', 'ALBUMIN_x',\n",
       "       'BILIRUBIN_x', 'mean_BUN', 'CHLORIDE_x', 'CREATININE_x', 'mean_GLUCOSE',\n",
       "       'Hemoglobin_x', 'LACTATE_x', 'PAO2_x', 'PCO2_x', 'mean_pH',\n",
       "       'PLATELET_x', 'Potassium_x', 'SODIUM_x', 'WBC_x', 'bun', 'glucose',\n",
       "       'ph'],\n",
       "      dtype='object')"
      ]
     },
     "execution_count": 15,
     "metadata": {},
     "output_type": "execute_result"
    }
   ],
   "source": [
    "mimic_df.columns"
   ]
  },
  {
   "cell_type": "code",
   "execution_count": 16,
   "id": "26f2b818",
   "metadata": {},
   "outputs": [
    {
     "name": "stderr",
     "output_type": "stream",
     "text": [
      "/Users/parthshiroya/anaconda3/lib/python3.11/site-packages/dask/dataframe/dask_expr/_groupby.py:1561: FutureWarning: The default of observed=False is deprecated and will be changed to True in a future version of pandas. Pass observed=False to retain current behavior or observed=True to adopt the future default and silence this warning.\n",
      "  self._meta = self.obj._meta.groupby(\n"
     ]
    },
    {
     "name": "stdout",
     "output_type": "stream",
     "text": [
      "✅ Vital Signs Data Processed Successfully!\n"
     ]
    }
   ],
   "source": [
    "# Define mapping for vital signs\n",
    "vitals_mapping = {\n",
    "    220045: \"HEARTRATE\", \n",
    "    220050: \"SYSTOLIC_BP\", \n",
    "    220051: \"DIASTOLIC_BP\",\n",
    "    220052: \"MEAN_BP\",\n",
    "    220210: \"RESPIRATORYRATE\",\n",
    "    224690: \"RESPIRATION\",\n",
    "    223762: \"TEMPERATURE\",\n",
    "    220277: \"SAO2\",\n",
    "    454: \"motor\",         # GSR Motor CareVue\n",
    "    223901: \"motor\"       # GSR Motor MetaVision\n",
    "}\n",
    "\n",
    "# Map `ITEMID` to meaningful names\n",
    "vitals_df[\"VITALNAME\"] = vitals_df[\"ITEMID\"].map(vitals_mapping, meta=(\"VITALNAME\", \"object\"))\n",
    "\n",
    "# 🔹 **Filter for only mapped vital signs**\n",
    "vitals_df = vitals_df.dropna(subset=[\"VITALNAME\"])\n",
    "\n",
    "# Convert `VITALNAME` to categorical for pivoting\n",
    "vitals_df[\"VITALNAME\"] = vitals_df[\"VITALNAME\"].astype(\"category\")\n",
    "\n",
    "# Aggregate values (mean per patient & vital sign)\n",
    "vitals_agg = (\n",
    "    vitals_df.groupby([\"SUBJECT_ID\", \"VITALNAME\"])[\"VALUENUM\"]\n",
    "    .mean()\n",
    "    .reset_index()\n",
    ")\n",
    "\n",
    "# Compute before pivoting\n",
    "vitals_agg = vitals_agg.compute()\n",
    "\n",
    "# 🔹 **Pivot the table properly using pivot_table**\n",
    "vitals_agg = vitals_agg.pivot_table(index=\"SUBJECT_ID\", columns=\"VITALNAME\", values=\"VALUENUM\", aggfunc=\"mean\")\n",
    "\n",
    "# Reset index & rename column for consistency\n",
    "vitals_agg = vitals_agg.reset_index().rename(columns={\"SUBJECT_ID\": \"PATIENT_ID\"})\n",
    "\n",
    "print(\"✅ Vital Signs Data Processed Successfully!\")\n",
    "\n",
    "# Merge vitals into main dataset\n",
    "mimic_df = mimic_df.merge(vitals_agg, on=\"PATIENT_ID\", how=\"left\")"
   ]
  },
  {
   "cell_type": "code",
   "execution_count": 17,
   "id": "23c29a90",
   "metadata": {},
   "outputs": [
    {
     "name": "stdout",
     "output_type": "stream",
     "text": [
      "✅ Urine Output Data Processed Successfully!\n",
      "✅ Urine Output Successfully Merged into MIMIC-III Dataset!\n"
     ]
    }
   ],
   "source": [
    "# Define urine output ITEMIDs based on MIMIC documentation\n",
    "urine_item_ids = [\n",
    "    40055,  # Urine Output (Total)\n",
    "    43175,  # Urine Output 6hr\n",
    "    40069,  # Urine Output 24hr\n",
    "    40094,  # Urine Output 8hr\n",
    "    40715,  # Urine Output (All)\n",
    "    40473,  # Urine Output (12hr)\n",
    "    40405,  # Urine Output (Post Void)\n",
    "    40428,  # Urine Output (Before Sample)\n",
    "    40085,  # Foley Catheter Output\n",
    "]\n",
    "\n",
    "# Filter only relevant urine output records\n",
    "urine_df = output_df[output_df[\"ITEMID\"].isin(urine_item_ids)]\n",
    "\n",
    "# Aggregate total urine output per patient\n",
    "urine_agg = urine_df.groupby(\"SUBJECT_ID\")[\"VALUE\"].sum().reset_index()\n",
    "\n",
    "# Rename columns for consistency\n",
    "urine_agg = urine_agg.rename(columns={\"SUBJECT_ID\": \"PATIENT_ID\", \"VALUE\": \"URINE_OUTPUT\"})\n",
    "\n",
    "print(\"✅ Urine Output Data Processed Successfully!\")\n",
    "\n",
    "# Merge urine output into main dataset\n",
    "mimic_df = mimic_df.merge(urine_agg, on=\"PATIENT_ID\", how=\"left\")\n",
    "\n",
    "print(\"✅ Urine Output Successfully Merged into MIMIC-III Dataset!\")"
   ]
  },
  {
   "cell_type": "code",
   "execution_count": 18,
   "id": "eddd31bf",
   "metadata": {},
   "outputs": [
    {
     "data": {
      "text/plain": [
       "Index(['ROW_ID_x', 'PATIENT_ID', 'HADM_ID', 'ICUSTAY_ID', 'DBSOURCE',\n",
       "       'FIRST_CAREUNIT', 'LAST_CAREUNIT', 'FIRST_WARDID', 'LAST_WARDID',\n",
       "       'INTIME', 'OUTTIME', 'LOS', 'ROW_ID_y', 'ADMITTIME', 'DISCHTIME',\n",
       "       'DEATHTIME', 'ADMISSION_TYPE', 'ADMISSION_LOCATION',\n",
       "       'DISCHARGE_LOCATION', 'INSURANCE', 'LANGUAGE', 'RELIGION',\n",
       "       'MARITAL_STATUS', 'ETHNICITY', 'EDREGTIME', 'EDOUTTIME', 'DIAGNOSIS',\n",
       "       'actualhospitalmortality', 'HAS_CHARTEVENTS_DATA', 'ROW_ID', 'GENDER',\n",
       "       'DOD', 'DOD_HOSP', 'DOD_SSN', 'EXPIRE_FLAG', 'AGE', 'ALBUMIN_x',\n",
       "       'BILIRUBIN_x', 'mean_BUN', 'CHLORIDE_x', 'CREATININE_x', 'mean_GLUCOSE',\n",
       "       'Hemoglobin_x', 'LACTATE_x', 'PAO2_x', 'PCO2_x', 'mean_pH',\n",
       "       'PLATELET_x', 'Potassium_x', 'SODIUM_x', 'WBC_x', 'bun', 'glucose',\n",
       "       'ph', 'DIASTOLIC_BP', 'HEARTRATE', 'MEAN_BP', 'RESPIRATION',\n",
       "       'RESPIRATORYRATE', 'SAO2', 'SYSTOLIC_BP', 'TEMPERATURE', 'motor',\n",
       "       'URINE_OUTPUT'],\n",
       "      dtype='object')"
      ]
     },
     "execution_count": 18,
     "metadata": {},
     "output_type": "execute_result"
    }
   ],
   "source": [
    "mimic_df.columns"
   ]
  },
  {
   "cell_type": "code",
   "execution_count": 20,
   "id": "b317259c",
   "metadata": {},
   "outputs": [
    {
     "name": "stdout",
     "output_type": "stream",
     "text": [
      "✅ outputtotal_mean added to mimic_df!\n"
     ]
    }
   ],
   "source": [
    "import pandas as pd\n",
    "\n",
    "# Load OUTPUTEVENTS.csv\n",
    "outputevents_path = \"../mimic/OUTPUTEVENTS.csv\"\n",
    "output_df = pd.read_csv(outputevents_path, usecols=[\"SUBJECT_ID\", \"ITEMID\", \"VALUE\"], low_memory=False)\n",
    "\n",
    "# Convert VALUE to numeric\n",
    "output_df[\"VALUE\"] = pd.to_numeric(output_df[\"VALUE\"], errors=\"coerce\")\n",
    "output_df = output_df.dropna(subset=[\"VALUE\"])\n",
    "\n",
    "# Calculate mean output per patient\n",
    "output_mean_df = output_df.groupby(\"SUBJECT_ID\")[\"VALUE\"].mean().reset_index()\n",
    "output_mean_df = output_mean_df.rename(columns={\"SUBJECT_ID\": \"PATIENT_ID\", \"VALUE\": \"outputtotal_mean\"})\n",
    "\n",
    "# Merge into your main MIMIC DataFrame\n",
    "mimic_df = mimic_df.merge(output_mean_df, on=\"PATIENT_ID\", how=\"left\")\n",
    "\n",
    "print(\"✅ outputtotal_mean added to mimic_df!\")"
   ]
  },
  {
   "cell_type": "code",
   "execution_count": 21,
   "id": "ca54bdb9",
   "metadata": {
    "scrolled": true
   },
   "outputs": [
    {
     "data": {
      "text/plain": [
       "Index(['ROW_ID_x', 'PATIENT_ID', 'HADM_ID', 'ICUSTAY_ID', 'DBSOURCE',\n",
       "       'FIRST_CAREUNIT', 'LAST_CAREUNIT', 'FIRST_WARDID', 'LAST_WARDID',\n",
       "       'INTIME', 'OUTTIME', 'LOS', 'ROW_ID_y', 'ADMITTIME', 'DISCHTIME',\n",
       "       'DEATHTIME', 'ADMISSION_TYPE', 'ADMISSION_LOCATION',\n",
       "       'DISCHARGE_LOCATION', 'INSURANCE', 'LANGUAGE', 'RELIGION',\n",
       "       'MARITAL_STATUS', 'ETHNICITY', 'EDREGTIME', 'EDOUTTIME', 'DIAGNOSIS',\n",
       "       'actualhospitalmortality', 'HAS_CHARTEVENTS_DATA', 'ROW_ID', 'GENDER',\n",
       "       'DOD', 'DOD_HOSP', 'DOD_SSN', 'EXPIRE_FLAG', 'AGE', 'ALBUMIN_x',\n",
       "       'BILIRUBIN_x', 'mean_BUN', 'CHLORIDE_x', 'CREATININE_x', 'mean_GLUCOSE',\n",
       "       'Hemoglobin_x', 'LACTATE_x', 'PAO2_x', 'PCO2_x', 'mean_pH',\n",
       "       'PLATELET_x', 'Potassium_x', 'SODIUM_x', 'WBC_x', 'bun', 'glucose',\n",
       "       'ph', 'DIASTOLIC_BP', 'HEARTRATE', 'MEAN_BP', 'RESPIRATION',\n",
       "       'RESPIRATORYRATE', 'SAO2', 'SYSTOLIC_BP', 'TEMPERATURE', 'motor',\n",
       "       'URINE_OUTPUT', 'outputtotal_mean'],\n",
       "      dtype='object')"
      ]
     },
     "execution_count": 21,
     "metadata": {},
     "output_type": "execute_result"
    }
   ],
   "source": [
    "mimic_df.columns"
   ]
  },
  {
   "cell_type": "code",
   "execution_count": 38,
   "id": "1266fc39",
   "metadata": {},
   "outputs": [
    {
     "name": "stdout",
     "output_type": "stream",
     "text": [
      "✅ intaketotal_mean added to mimic_df!\n"
     ]
    }
   ],
   "source": [
    "import pandas as pd\n",
    "\n",
    "# Load INPUTEVENTS_MV.csv\n",
    "inputevents_path = \"../mimic/INPUTEVENTS_MV.csv\"\n",
    "input_df = pd.read_csv(inputevents_path, usecols=[\"SUBJECT_ID\", \"AMOUNT\"], low_memory=False)\n",
    "\n",
    "# Convert AMOUNT to numeric\n",
    "input_df[\"AMOUNT\"] = pd.to_numeric(input_df[\"AMOUNT\"], errors=\"coerce\")\n",
    "input_df = input_df.dropna(subset=[\"AMOUNT\"])\n",
    "\n",
    "# Compute mean intake per patient\n",
    "input_mean_df = input_df.groupby(\"SUBJECT_ID\")[\"AMOUNT\"].mean().reset_index()\n",
    "input_mean_df = input_mean_df.rename(columns={\"SUBJECT_ID\": \"PATIENT_ID\", \"AMOUNT\": \"intaketotal_mean\"})\n",
    "\n",
    "# Merge into main mimic_df\n",
    "mimic_df = mimic_df.merge(input_mean_df, on=\"PATIENT_ID\", how=\"left\")\n",
    "\n",
    "print(\"✅ intaketotal_mean added to mimic_df!\")"
   ]
  },
  {
   "cell_type": "code",
   "execution_count": 39,
   "id": "8d2890ac",
   "metadata": {},
   "outputs": [
    {
     "data": {
      "text/plain": [
       "Index(['ROW_ID_x', 'PATIENT_ID', 'HADM_ID', 'ICUSTAY_ID', 'FIRST_WARDID',\n",
       "       'LAST_WARDID', 'LOS_days', 'ROW_ID_y', 'HAS_CHARTEVENTS_DATA', 'ROW_ID',\n",
       "       'gender', 'EXPIRE_FLAG', 'age', 'albumin', 'mean_total bilirubin',\n",
       "       'mean_BUN', 'mean_chloride', 'mean_creatinine', 'mean_glucose',\n",
       "       'mean_Hgb', 'mean_lactate', 'mean_paO2', 'mean_paCO2', 'mean_pH',\n",
       "       'mean_platelets x 1000', 'mean_potassium', 'mean_sodium',\n",
       "       'mean_WBC x 1000', 'bun', 'glucose', 'ph', 'systemicdiastolic',\n",
       "       'heartrate', 'systemicmean', 'respiration', 'respiratoryrate', 'sao2',\n",
       "       'systemicsystolic', 'temperature', 'motor', 'urine', 'outputtotal_mean',\n",
       "       'actualhospitalmortality', 'intaketotal_mean'],\n",
       "      dtype='object')"
      ]
     },
     "execution_count": 39,
     "metadata": {},
     "output_type": "execute_result"
    }
   ],
   "source": [
    "mimic_df.columns"
   ]
  },
  {
   "cell_type": "code",
   "execution_count": 61,
   "id": "9799a4ec",
   "metadata": {},
   "outputs": [],
   "source": [
    "inputevents_df = inputevents_df.rename(columns={\"SUBJECT_ID\": \"PATIENT_ID\"})\n",
    "input_weight_df = inputevents_df.groupby(\"PATIENT_ID\")[\"PATIENTWEIGHT\"].mean().reset_index()\n",
    "\n",
    "\n",
    "# Ensure input_weight_df is Pandas\n",
    "if not isinstance(input_weight_df, pd.DataFrame):\n",
    "    input_weight_df = input_weight_df.compute()\n",
    "\n",
    "# Perform merge\n",
    "mimic_df = mimic_df.merge(input_weight_df, on=\"PATIENT_ID\", how=\"left\")"
   ]
  },
  {
   "cell_type": "code",
   "execution_count": 62,
   "id": "377a4fec",
   "metadata": {},
   "outputs": [
    {
     "data": {
      "text/plain": [
       "Index(['ROW_ID_x', 'PATIENT_ID', 'HADM_ID', 'ICUSTAY_ID', 'FIRST_WARDID',\n",
       "       'LAST_WARDID', 'LOS_days', 'ROW_ID_y', 'HAS_CHARTEVENTS_DATA', 'ROW_ID',\n",
       "       'gender', 'EXPIRE_FLAG', 'age', 'albumin', 'mean_total bilirubin',\n",
       "       'mean_BUN', 'mean_chloride', 'mean_creatinine', 'mean_glucose',\n",
       "       'mean_Hgb', 'mean_lactate', 'mean_paO2', 'mean_paCO2', 'mean_pH',\n",
       "       'mean_platelets x 1000', 'mean_potassium', 'mean_sodium',\n",
       "       'mean_WBC x 1000', 'bun', 'glucose', 'ph', 'systemicdiastolic',\n",
       "       'heartrate', 'systemicmean', 'respiration', 'respiratoryrate', 'sao2',\n",
       "       'systemicsystolic', 'temperature', 'motor', 'urine', 'outputtotal_mean',\n",
       "       'intaketotal_mean', 'actualhospitalmortality', 'PATIENTWEIGHT'],\n",
       "      dtype='object')"
      ]
     },
     "execution_count": 62,
     "metadata": {},
     "output_type": "execute_result"
    }
   ],
   "source": [
    "mimic_df.columns"
   ]
  },
  {
   "cell_type": "code",
   "execution_count": 63,
   "id": "c4961af9",
   "metadata": {},
   "outputs": [],
   "source": [
    "mimic_df = mimic_df.drop(columns=[\"ROW_ID_x\", \"ROW_ID_y\",\"ROW_ID\"], errors=\"ignore\")"
   ]
  },
  {
   "cell_type": "code",
   "execution_count": 64,
   "id": "13e1d3d9",
   "metadata": {},
   "outputs": [
    {
     "data": {
      "text/plain": [
       "Index(['PATIENT_ID', 'HADM_ID', 'ICUSTAY_ID', 'FIRST_WARDID', 'LAST_WARDID',\n",
       "       'LOS_days', 'HAS_CHARTEVENTS_DATA', 'gender', 'EXPIRE_FLAG', 'age',\n",
       "       'albumin', 'mean_total bilirubin', 'mean_BUN', 'mean_chloride',\n",
       "       'mean_creatinine', 'mean_glucose', 'mean_Hgb', 'mean_lactate',\n",
       "       'mean_paO2', 'mean_paCO2', 'mean_pH', 'mean_platelets x 1000',\n",
       "       'mean_potassium', 'mean_sodium', 'mean_WBC x 1000', 'bun', 'glucose',\n",
       "       'ph', 'systemicdiastolic', 'heartrate', 'systemicmean', 'respiration',\n",
       "       'respiratoryrate', 'sao2', 'systemicsystolic', 'temperature', 'motor',\n",
       "       'urine', 'outputtotal_mean', 'intaketotal_mean',\n",
       "       'actualhospitalmortality', 'PATIENTWEIGHT'],\n",
       "      dtype='object')"
      ]
     },
     "execution_count": 64,
     "metadata": {},
     "output_type": "execute_result"
    }
   ],
   "source": [
    "mimic_df.columns"
   ]
  },
  {
   "cell_type": "markdown",
   "id": "391c8b4a",
   "metadata": {},
   "source": [
    "KeyError: \"['admitdiagnosis', 'mean_chloride', 'mean_lactate', 'systemicmean', 'ventstartoffset'] not in index\""
   ]
  },
  {
   "cell_type": "code",
   "execution_count": null,
   "id": "b1747aa0",
   "metadata": {},
   "outputs": [],
   "source": []
  },
  {
   "cell_type": "code",
   "execution_count": 65,
   "id": "aa63f610",
   "metadata": {},
   "outputs": [],
   "source": [
    "# Define a mapping to align column names\n",
    "feature_mapping = {\n",
    "    \"AGE\": \"age\",\n",
    "    \"PATIENTWEIGHT\": \"admissionweight\",\n",
    "    \"URINE_OUTPUT\": \"urine\",\n",
    "    \"WBC_x\": \"mean_WBC x 1000\",\n",
    "    \"RESPIRATORYRATE\": \"respiratoryrate\",\n",
    "    \"RESPIRATION\": \"respiration\",\n",
    "    \"SODIUM_x\": \"mean_sodium\",\n",
    "    \"MEAN_BP\": \"systemicmean\",\n",
    "    \"mean_pH\": \"mean_pH\",\n",
    "    \"CREATININE_x\": \"mean_creatinine\",\n",
    "    \"ALBUMIN_x\": \"albumin\",\n",
    "    \"PAO2_x\": \"mean_paO2\",\n",
    "    \"PCO2_x\": \"mean_paCO2\",\n",
    "    \"mean_BUN\": \"mean_BUN\",\n",
    "    \"Potassium_x\": \"mean_potassium\",\n",
    "    \"mean_GLUCOSE\": \"mean_glucose\",\n",
    "    \"BILIRUBIN_x\": \"mean_total bilirubin\",\n",
    "    \"HEARTRATE\": \"heartrate\",\n",
    "    \"TEMPERATURE\": \"temperature\",\n",
    "    \"SAO2\": \"sao2\",\n",
    "    \"DIASTOLIC_BP\": \"systemicdiastolic\",\n",
    "    \"SYSTOLIC_BP\": \"systemicsystolic\",\n",
    "    \"Hemoglobin_x\": \"mean_Hgb\",\n",
    "    \"LOS\": \"LOS_days\",\n",
    "    \"GENDER\": \"gender\",\n",
    "    \"PLATELET_x\": \"mean_platelets x 1000\",\n",
    "    \"CHLORIDE_x\": \"mean_chloride\",\n",
    "    \"LACTATE_x\": \"mean_lactate\"\n",
    "\n",
    "}\n",
    "\n",
    "# Rename MIMIC columns\n",
    "mimic_df = mimic_df.rename(columns=feature_mapping)"
   ]
  },
  {
   "cell_type": "code",
   "execution_count": 66,
   "id": "623bc060",
   "metadata": {
    "scrolled": false
   },
   "outputs": [
    {
     "data": {
      "text/plain": [
       "Index(['PATIENT_ID', 'HADM_ID', 'ICUSTAY_ID', 'FIRST_WARDID', 'LAST_WARDID',\n",
       "       'LOS_days', 'HAS_CHARTEVENTS_DATA', 'gender', 'EXPIRE_FLAG', 'age',\n",
       "       'albumin', 'mean_total bilirubin', 'mean_BUN', 'mean_chloride',\n",
       "       'mean_creatinine', 'mean_glucose', 'mean_Hgb', 'mean_lactate',\n",
       "       'mean_paO2', 'mean_paCO2', 'mean_pH', 'mean_platelets x 1000',\n",
       "       'mean_potassium', 'mean_sodium', 'mean_WBC x 1000', 'bun', 'glucose',\n",
       "       'ph', 'systemicdiastolic', 'heartrate', 'systemicmean', 'respiration',\n",
       "       'respiratoryrate', 'sao2', 'systemicsystolic', 'temperature', 'motor',\n",
       "       'urine', 'outputtotal_mean', 'intaketotal_mean',\n",
       "       'actualhospitalmortality', 'admissionweight'],\n",
       "      dtype='object')"
      ]
     },
     "execution_count": 66,
     "metadata": {},
     "output_type": "execute_result"
    }
   ],
   "source": [
    "mimic_df.columns"
   ]
  },
  {
   "cell_type": "code",
   "execution_count": 67,
   "id": "6879f583",
   "metadata": {},
   "outputs": [
    {
     "name": "stdout",
     "output_type": "stream",
     "text": [
      "✅ Already a Pandas DataFrame.\n"
     ]
    }
   ],
   "source": [
    "import dask.dataframe as dd\n",
    "\n",
    "# Convert to Pandas if it's Dask\n",
    "if isinstance(mimic_df, dd.DataFrame):\n",
    "    print(\"🔄 Converting Dask DataFrame to Pandas...\")\n",
    "    mimic_df = mimic_df.compute()\n",
    "else:\n",
    "    print(\"✅ Already a Pandas DataFrame.\")"
   ]
  },
  {
   "cell_type": "code",
   "execution_count": 68,
   "id": "3755a611",
   "metadata": {},
   "outputs": [
    {
     "data": {
      "text/plain": [
       "Index(['PATIENT_ID', 'HADM_ID', 'ICUSTAY_ID', 'FIRST_WARDID', 'LAST_WARDID',\n",
       "       'LOS_days', 'HAS_CHARTEVENTS_DATA', 'gender', 'EXPIRE_FLAG', 'age',\n",
       "       'albumin', 'mean_total bilirubin', 'mean_BUN', 'mean_chloride',\n",
       "       'mean_creatinine', 'mean_glucose', 'mean_Hgb', 'mean_lactate',\n",
       "       'mean_paO2', 'mean_paCO2', 'mean_pH', 'mean_platelets x 1000',\n",
       "       'mean_potassium', 'mean_sodium', 'mean_WBC x 1000', 'bun', 'glucose',\n",
       "       'ph', 'systemicdiastolic', 'heartrate', 'systemicmean', 'respiration',\n",
       "       'respiratoryrate', 'sao2', 'systemicsystolic', 'temperature', 'motor',\n",
       "       'urine', 'outputtotal_mean', 'intaketotal_mean',\n",
       "       'actualhospitalmortality', 'admissionweight'],\n",
       "      dtype='object')"
      ]
     },
     "execution_count": 68,
     "metadata": {},
     "output_type": "execute_result"
    }
   ],
   "source": [
    "mimic_df.columns"
   ]
  },
  {
   "cell_type": "code",
   "execution_count": 69,
   "id": "78a54265",
   "metadata": {},
   "outputs": [
    {
     "data": {
      "image/png": "[encoded data removed]",
      "text/plain": [
       "<Figure size 1200x600 with 1 Axes>"
      ]
     },
     "metadata": {},
     "output_type": "display_data"
    }
   ],
   "source": [
    "import pandas as pd\n",
    "from sklearn.ensemble import RandomForestClassifier\n",
    "\n",
    "# ✅ Ensure you're working with a DataFrame (not NumPy array)\n",
    "y = mimic_df['actualhospitalmortality']  # the target column as Series or array\n",
    "X = mimic_df.drop(columns=[\"actualhospitalmortality\", \"EXPIRE_FLAG\"], errors='ignore')\n",
    "\n",
    "\n",
    "mimic_df = mimic_df.astype({col: int for col in mimic_df.columns if mimic_df[col].dtype == 'bool'})\n",
    "# ✅ Drop categorical/object columns\n",
    "X_numeric = X.select_dtypes(include=[\"number\"])\n",
    "\n",
    "# ✅ Train Random Forest\n",
    "rf = RandomForestClassifier(n_estimators=50, max_depth=10, random_state=42, n_jobs=-1)\n",
    "rf.fit(X_numeric, y)\n",
    "\n",
    "# ✅ Feature importance\n",
    "feature_importances = pd.DataFrame({\n",
    "    \"Feature\": X_numeric.columns,\n",
    "    \"Importance\": rf.feature_importances_\n",
    "}).sort_values(by=\"Importance\", ascending=False)\n",
    "\n",
    "# ✅ Visualize\n",
    "import seaborn as sns\n",
    "import matplotlib.pyplot as plt\n",
    "\n",
    "plt.figure(figsize=(12, 6))\n",
    "sns.barplot(y=feature_importances[\"Feature\"][:20], x=feature_importances[\"Importance\"][:20], palette=\"viridis\")\n",
    "plt.title(\"Top 20 Features Based on Random Forest\")\n",
    "plt.xlabel(\"Feature Importance\")\n",
    "plt.ylabel(\"Feature\")\n",
    "plt.show()"
   ]
  },
  {
   "cell_type": "code",
   "execution_count": 70,
   "id": "1e0822cf",
   "metadata": {},
   "outputs": [
    {
     "data": {
      "text/plain": [
       "Index(['PATIENT_ID', 'HADM_ID', 'ICUSTAY_ID', 'FIRST_WARDID', 'LAST_WARDID',\n",
       "       'LOS_days', 'HAS_CHARTEVENTS_DATA', 'gender', 'EXPIRE_FLAG', 'age',\n",
       "       'albumin', 'mean_total bilirubin', 'mean_BUN', 'mean_chloride',\n",
       "       'mean_creatinine', 'mean_glucose', 'mean_Hgb', 'mean_lactate',\n",
       "       'mean_paO2', 'mean_paCO2', 'mean_pH', 'mean_platelets x 1000',\n",
       "       'mean_potassium', 'mean_sodium', 'mean_WBC x 1000', 'bun', 'glucose',\n",
       "       'ph', 'systemicdiastolic', 'heartrate', 'systemicmean', 'respiration',\n",
       "       'respiratoryrate', 'sao2', 'systemicsystolic', 'temperature', 'motor',\n",
       "       'urine', 'outputtotal_mean', 'intaketotal_mean',\n",
       "       'actualhospitalmortality', 'admissionweight'],\n",
       "      dtype='object')"
      ]
     },
     "execution_count": 70,
     "metadata": {},
     "output_type": "execute_result"
    }
   ],
   "source": [
    "mimic_df.columns"
   ]
  },
  {
   "cell_type": "markdown",
   "id": "291b9f35",
   "metadata": {},
   "source": [
    "mimic_df.isna.sum()"
   ]
  },
  {
   "cell_type": "code",
   "execution_count": 71,
   "id": "93fa0229",
   "metadata": {},
   "outputs": [
    {
     "data": {
      "text/plain": [
       "116426"
      ]
     },
     "execution_count": 71,
     "metadata": {},
     "output_type": "execute_result"
    }
   ],
   "source": [
    "len(mimic_df)"
   ]
  },
  {
   "cell_type": "code",
   "execution_count": 72,
   "id": "23969602",
   "metadata": {
    "scrolled": false
   },
   "outputs": [
    {
     "data": {
      "text/plain": [
       "PATIENT_ID                     0\n",
       "HADM_ID                        0\n",
       "ICUSTAY_ID                     0\n",
       "FIRST_WARDID                   0\n",
       "LAST_WARDID                    0\n",
       "LOS_days                       0\n",
       "HAS_CHARTEVENTS_DATA           0\n",
       "gender                         0\n",
       "EXPIRE_FLAG                    0\n",
       "age                            0\n",
       "albumin                        0\n",
       "mean_total bilirubin           0\n",
       "mean_BUN                       0\n",
       "mean_chloride                  0\n",
       "mean_creatinine                0\n",
       "mean_glucose                   0\n",
       "mean_Hgb                       0\n",
       "mean_lactate                   0\n",
       "mean_paO2                      0\n",
       "mean_paCO2                     0\n",
       "mean_pH                        0\n",
       "mean_platelets x 1000          0\n",
       "mean_potassium                 0\n",
       "mean_sodium                    0\n",
       "mean_WBC x 1000                0\n",
       "bun                            0\n",
       "glucose                        0\n",
       "ph                             0\n",
       "systemicdiastolic              0\n",
       "heartrate                      0\n",
       "systemicmean                   0\n",
       "respiration                    0\n",
       "respiratoryrate                0\n",
       "sao2                           0\n",
       "systemicsystolic               0\n",
       "temperature                    0\n",
       "motor                          0\n",
       "urine                          0\n",
       "outputtotal_mean               0\n",
       "intaketotal_mean               0\n",
       "actualhospitalmortality        0\n",
       "admissionweight            52217\n",
       "dtype: int64"
      ]
     },
     "execution_count": 72,
     "metadata": {},
     "output_type": "execute_result"
    }
   ],
   "source": [
    "mimic_df.isna().sum()"
   ]
  },
  {
   "cell_type": "code",
   "execution_count": 73,
   "id": "ecaf5e44",
   "metadata": {},
   "outputs": [
    {
     "data": {
      "text/html": [
       "<div>\n",
       "<style scoped>\n",
       "    .dataframe tbody tr th:only-of-type {\n",
       "        vertical-align: middle;\n",
       "    }\n",
       "\n",
       "    .dataframe tbody tr th {\n",
       "        vertical-align: top;\n",
       "    }\n",
       "\n",
       "    .dataframe thead th {\n",
       "        text-align: right;\n",
       "    }\n",
       "</style>\n",
       "<table border=\"1\" class=\"dataframe\">\n",
       "  <thead>\n",
       "    <tr style=\"text-align: right;\">\n",
       "      <th></th>\n",
       "      <th>PATIENT_ID</th>\n",
       "      <th>HADM_ID</th>\n",
       "      <th>ICUSTAY_ID</th>\n",
       "      <th>FIRST_WARDID</th>\n",
       "      <th>LAST_WARDID</th>\n",
       "      <th>LOS_days</th>\n",
       "      <th>HAS_CHARTEVENTS_DATA</th>\n",
       "      <th>gender</th>\n",
       "      <th>EXPIRE_FLAG</th>\n",
       "      <th>age</th>\n",
       "      <th>...</th>\n",
       "      <th>respiratoryrate</th>\n",
       "      <th>sao2</th>\n",
       "      <th>systemicsystolic</th>\n",
       "      <th>temperature</th>\n",
       "      <th>motor</th>\n",
       "      <th>urine</th>\n",
       "      <th>outputtotal_mean</th>\n",
       "      <th>intaketotal_mean</th>\n",
       "      <th>actualhospitalmortality</th>\n",
       "      <th>admissionweight</th>\n",
       "    </tr>\n",
       "  </thead>\n",
       "  <tbody>\n",
       "    <tr>\n",
       "      <th>0</th>\n",
       "      <td>268.0</td>\n",
       "      <td>110404.0</td>\n",
       "      <td>280836.0</td>\n",
       "      <td>52.0</td>\n",
       "      <td>52.0</td>\n",
       "      <td>3.2490</td>\n",
       "      <td>1.0</td>\n",
       "      <td>0.0</td>\n",
       "      <td>1.0</td>\n",
       "      <td>66.0</td>\n",
       "      <td>...</td>\n",
       "      <td>19.163494</td>\n",
       "      <td>98.060368</td>\n",
       "      <td>122.739111</td>\n",
       "      <td>44.218974</td>\n",
       "      <td>3.818182</td>\n",
       "      <td>530.0</td>\n",
       "      <td>42.413793</td>\n",
       "      <td>249.61401</td>\n",
       "      <td>1</td>\n",
       "      <td>NaN</td>\n",
       "    </tr>\n",
       "    <tr>\n",
       "      <th>1</th>\n",
       "      <td>269.0</td>\n",
       "      <td>106296.0</td>\n",
       "      <td>206613.0</td>\n",
       "      <td>52.0</td>\n",
       "      <td>52.0</td>\n",
       "      <td>3.2788</td>\n",
       "      <td>1.0</td>\n",
       "      <td>1.0</td>\n",
       "      <td>0.0</td>\n",
       "      <td>40.0</td>\n",
       "      <td>...</td>\n",
       "      <td>19.163494</td>\n",
       "      <td>98.060368</td>\n",
       "      <td>122.739111</td>\n",
       "      <td>44.218974</td>\n",
       "      <td>6.000000</td>\n",
       "      <td>9920.0</td>\n",
       "      <td>268.108108</td>\n",
       "      <td>249.61401</td>\n",
       "      <td>0</td>\n",
       "      <td>NaN</td>\n",
       "    </tr>\n",
       "    <tr>\n",
       "      <th>2</th>\n",
       "      <td>270.0</td>\n",
       "      <td>188028.0</td>\n",
       "      <td>220345.0</td>\n",
       "      <td>57.0</td>\n",
       "      <td>57.0</td>\n",
       "      <td>2.8939</td>\n",
       "      <td>1.0</td>\n",
       "      <td>1.0</td>\n",
       "      <td>0.0</td>\n",
       "      <td>80.0</td>\n",
       "      <td>...</td>\n",
       "      <td>19.163494</td>\n",
       "      <td>98.060368</td>\n",
       "      <td>122.739111</td>\n",
       "      <td>44.218974</td>\n",
       "      <td>6.000000</td>\n",
       "      <td>5805.0</td>\n",
       "      <td>223.269231</td>\n",
       "      <td>249.61401</td>\n",
       "      <td>0</td>\n",
       "      <td>NaN</td>\n",
       "    </tr>\n",
       "    <tr>\n",
       "      <th>3</th>\n",
       "      <td>271.0</td>\n",
       "      <td>173727.0</td>\n",
       "      <td>249196.0</td>\n",
       "      <td>52.0</td>\n",
       "      <td>23.0</td>\n",
       "      <td>2.0600</td>\n",
       "      <td>1.0</td>\n",
       "      <td>0.0</td>\n",
       "      <td>0.0</td>\n",
       "      <td>46.0</td>\n",
       "      <td>...</td>\n",
       "      <td>19.163494</td>\n",
       "      <td>98.060368</td>\n",
       "      <td>122.739111</td>\n",
       "      <td>44.218974</td>\n",
       "      <td>6.000000</td>\n",
       "      <td>3400.0</td>\n",
       "      <td>100.000000</td>\n",
       "      <td>249.61401</td>\n",
       "      <td>0</td>\n",
       "      <td>NaN</td>\n",
       "    </tr>\n",
       "    <tr>\n",
       "      <th>4</th>\n",
       "      <td>272.0</td>\n",
       "      <td>164716.0</td>\n",
       "      <td>210407.0</td>\n",
       "      <td>57.0</td>\n",
       "      <td>57.0</td>\n",
       "      <td>1.6202</td>\n",
       "      <td>1.0</td>\n",
       "      <td>1.0</td>\n",
       "      <td>0.0</td>\n",
       "      <td>67.0</td>\n",
       "      <td>...</td>\n",
       "      <td>19.163494</td>\n",
       "      <td>98.060368</td>\n",
       "      <td>122.739111</td>\n",
       "      <td>44.218974</td>\n",
       "      <td>6.000000</td>\n",
       "      <td>5625.0</td>\n",
       "      <td>208.333333</td>\n",
       "      <td>249.61401</td>\n",
       "      <td>0</td>\n",
       "      <td>NaN</td>\n",
       "    </tr>\n",
       "  </tbody>\n",
       "</table>\n",
       "<p>5 rows × 42 columns</p>\n",
       "</div>"
      ],
      "text/plain": [
       "   PATIENT_ID   HADM_ID  ICUSTAY_ID  FIRST_WARDID  LAST_WARDID  LOS_days  \\\n",
       "0       268.0  110404.0    280836.0          52.0         52.0    3.2490   \n",
       "1       269.0  106296.0    206613.0          52.0         52.0    3.2788   \n",
       "2       270.0  188028.0    220345.0          57.0         57.0    2.8939   \n",
       "3       271.0  173727.0    249196.0          52.0         23.0    2.0600   \n",
       "4       272.0  164716.0    210407.0          57.0         57.0    1.6202   \n",
       "\n",
       "   HAS_CHARTEVENTS_DATA  gender  EXPIRE_FLAG   age  ...  respiratoryrate  \\\n",
       "0                   1.0     0.0          1.0  66.0  ...        19.163494   \n",
       "1                   1.0     1.0          0.0  40.0  ...        19.163494   \n",
       "2                   1.0     1.0          0.0  80.0  ...        19.163494   \n",
       "3                   1.0     0.0          0.0  46.0  ...        19.163494   \n",
       "4                   1.0     1.0          0.0  67.0  ...        19.163494   \n",
       "\n",
       "        sao2  systemicsystolic  temperature     motor   urine  \\\n",
       "0  98.060368        122.739111    44.218974  3.818182   530.0   \n",
       "1  98.060368        122.739111    44.218974  6.000000  9920.0   \n",
       "2  98.060368        122.739111    44.218974  6.000000  5805.0   \n",
       "3  98.060368        122.739111    44.218974  6.000000  3400.0   \n",
       "4  98.060368        122.739111    44.218974  6.000000  5625.0   \n",
       "\n",
       "   outputtotal_mean  intaketotal_mean  actualhospitalmortality  \\\n",
       "0         42.413793         249.61401                        1   \n",
       "1        268.108108         249.61401                        0   \n",
       "2        223.269231         249.61401                        0   \n",
       "3        100.000000         249.61401                        0   \n",
       "4        208.333333         249.61401                        0   \n",
       "\n",
       "   admissionweight  \n",
       "0              NaN  \n",
       "1              NaN  \n",
       "2              NaN  \n",
       "3              NaN  \n",
       "4              NaN  \n",
       "\n",
       "[5 rows x 42 columns]"
      ]
     },
     "execution_count": 73,
     "metadata": {},
     "output_type": "execute_result"
    }
   ],
   "source": [
    "mimic_df.head()"
   ]
  },
  {
   "cell_type": "code",
   "execution_count": 74,
   "id": "55999e14",
   "metadata": {},
   "outputs": [
    {
     "name": "stdout",
     "output_type": "stream",
     "text": [
      "✅ Imputation complete and non-numeric columns excluded.\n",
      "📊 Final shape: (116426, 42)\n"
     ]
    }
   ],
   "source": [
    "from sklearn.impute import SimpleImputer\n",
    "\n",
    "# Separate target\n",
    "target_col = \"actualhospitalmortality\"\n",
    "y = mimic_df[target_col]\n",
    "X = mimic_df.drop(columns=[target_col])\n",
    "\n",
    "# Keep only numeric columns (drop datetime/object/categorical)\n",
    "X_numeric = X.select_dtypes(include=[\"number\"])\n",
    "\n",
    "# Impute numeric columns\n",
    "imputer = SimpleImputer(strategy=\"mean\")\n",
    "X_imputed = imputer.fit_transform(X_numeric)\n",
    "\n",
    "# Convert back to DataFrame\n",
    "X_imputed_df = pd.DataFrame(X_imputed, columns=X_numeric.columns)\n",
    "\n",
    "# Combine imputed numeric with target\n",
    "mimic_cleaned_df = X_imputed_df.copy()\n",
    "mimic_cleaned_df[target_col] = y.reset_index(drop=True)\n",
    "\n",
    "print(\"✅ Imputation complete and non-numeric columns excluded.\")\n",
    "print(\"📊 Final shape:\", mimic_cleaned_df.shape)"
   ]
  },
  {
   "cell_type": "code",
   "execution_count": 75,
   "id": "fa705a96",
   "metadata": {},
   "outputs": [],
   "source": [
    "mimic_df = mimic_cleaned_df"
   ]
  },
  {
   "cell_type": "code",
   "execution_count": 76,
   "id": "2a24e3eb",
   "metadata": {},
   "outputs": [
    {
     "data": {
      "text/html": [
       "<div>\n",
       "<style scoped>\n",
       "    .dataframe tbody tr th:only-of-type {\n",
       "        vertical-align: middle;\n",
       "    }\n",
       "\n",
       "    .dataframe tbody tr th {\n",
       "        vertical-align: top;\n",
       "    }\n",
       "\n",
       "    .dataframe thead th {\n",
       "        text-align: right;\n",
       "    }\n",
       "</style>\n",
       "<table border=\"1\" class=\"dataframe\">\n",
       "  <thead>\n",
       "    <tr style=\"text-align: right;\">\n",
       "      <th></th>\n",
       "      <th>PATIENT_ID</th>\n",
       "      <th>HADM_ID</th>\n",
       "      <th>ICUSTAY_ID</th>\n",
       "      <th>FIRST_WARDID</th>\n",
       "      <th>LAST_WARDID</th>\n",
       "      <th>LOS_days</th>\n",
       "      <th>HAS_CHARTEVENTS_DATA</th>\n",
       "      <th>gender</th>\n",
       "      <th>EXPIRE_FLAG</th>\n",
       "      <th>age</th>\n",
       "      <th>...</th>\n",
       "      <th>respiratoryrate</th>\n",
       "      <th>sao2</th>\n",
       "      <th>systemicsystolic</th>\n",
       "      <th>temperature</th>\n",
       "      <th>motor</th>\n",
       "      <th>urine</th>\n",
       "      <th>outputtotal_mean</th>\n",
       "      <th>intaketotal_mean</th>\n",
       "      <th>admissionweight</th>\n",
       "      <th>actualhospitalmortality</th>\n",
       "    </tr>\n",
       "  </thead>\n",
       "  <tbody>\n",
       "    <tr>\n",
       "      <th>0</th>\n",
       "      <td>268.0</td>\n",
       "      <td>110404.0</td>\n",
       "      <td>280836.0</td>\n",
       "      <td>52.0</td>\n",
       "      <td>52.0</td>\n",
       "      <td>3.2490</td>\n",
       "      <td>1.0</td>\n",
       "      <td>0.0</td>\n",
       "      <td>1.0</td>\n",
       "      <td>66.0</td>\n",
       "      <td>...</td>\n",
       "      <td>19.163494</td>\n",
       "      <td>98.060368</td>\n",
       "      <td>122.739111</td>\n",
       "      <td>44.218974</td>\n",
       "      <td>3.818182</td>\n",
       "      <td>530.0</td>\n",
       "      <td>42.413793</td>\n",
       "      <td>249.61401</td>\n",
       "      <td>79.573338</td>\n",
       "      <td>1</td>\n",
       "    </tr>\n",
       "    <tr>\n",
       "      <th>1</th>\n",
       "      <td>269.0</td>\n",
       "      <td>106296.0</td>\n",
       "      <td>206613.0</td>\n",
       "      <td>52.0</td>\n",
       "      <td>52.0</td>\n",
       "      <td>3.2788</td>\n",
       "      <td>1.0</td>\n",
       "      <td>1.0</td>\n",
       "      <td>0.0</td>\n",
       "      <td>40.0</td>\n",
       "      <td>...</td>\n",
       "      <td>19.163494</td>\n",
       "      <td>98.060368</td>\n",
       "      <td>122.739111</td>\n",
       "      <td>44.218974</td>\n",
       "      <td>6.000000</td>\n",
       "      <td>9920.0</td>\n",
       "      <td>268.108108</td>\n",
       "      <td>249.61401</td>\n",
       "      <td>79.573338</td>\n",
       "      <td>0</td>\n",
       "    </tr>\n",
       "    <tr>\n",
       "      <th>2</th>\n",
       "      <td>270.0</td>\n",
       "      <td>188028.0</td>\n",
       "      <td>220345.0</td>\n",
       "      <td>57.0</td>\n",
       "      <td>57.0</td>\n",
       "      <td>2.8939</td>\n",
       "      <td>1.0</td>\n",
       "      <td>1.0</td>\n",
       "      <td>0.0</td>\n",
       "      <td>80.0</td>\n",
       "      <td>...</td>\n",
       "      <td>19.163494</td>\n",
       "      <td>98.060368</td>\n",
       "      <td>122.739111</td>\n",
       "      <td>44.218974</td>\n",
       "      <td>6.000000</td>\n",
       "      <td>5805.0</td>\n",
       "      <td>223.269231</td>\n",
       "      <td>249.61401</td>\n",
       "      <td>79.573338</td>\n",
       "      <td>0</td>\n",
       "    </tr>\n",
       "    <tr>\n",
       "      <th>3</th>\n",
       "      <td>271.0</td>\n",
       "      <td>173727.0</td>\n",
       "      <td>249196.0</td>\n",
       "      <td>52.0</td>\n",
       "      <td>23.0</td>\n",
       "      <td>2.0600</td>\n",
       "      <td>1.0</td>\n",
       "      <td>0.0</td>\n",
       "      <td>0.0</td>\n",
       "      <td>46.0</td>\n",
       "      <td>...</td>\n",
       "      <td>19.163494</td>\n",
       "      <td>98.060368</td>\n",
       "      <td>122.739111</td>\n",
       "      <td>44.218974</td>\n",
       "      <td>6.000000</td>\n",
       "      <td>3400.0</td>\n",
       "      <td>100.000000</td>\n",
       "      <td>249.61401</td>\n",
       "      <td>79.573338</td>\n",
       "      <td>0</td>\n",
       "    </tr>\n",
       "    <tr>\n",
       "      <th>4</th>\n",
       "      <td>272.0</td>\n",
       "      <td>164716.0</td>\n",
       "      <td>210407.0</td>\n",
       "      <td>57.0</td>\n",
       "      <td>57.0</td>\n",
       "      <td>1.6202</td>\n",
       "      <td>1.0</td>\n",
       "      <td>1.0</td>\n",
       "      <td>0.0</td>\n",
       "      <td>67.0</td>\n",
       "      <td>...</td>\n",
       "      <td>19.163494</td>\n",
       "      <td>98.060368</td>\n",
       "      <td>122.739111</td>\n",
       "      <td>44.218974</td>\n",
       "      <td>6.000000</td>\n",
       "      <td>5625.0</td>\n",
       "      <td>208.333333</td>\n",
       "      <td>249.61401</td>\n",
       "      <td>79.573338</td>\n",
       "      <td>0</td>\n",
       "    </tr>\n",
       "  </tbody>\n",
       "</table>\n",
       "<p>5 rows × 42 columns</p>\n",
       "</div>"
      ],
      "text/plain": [
       "   PATIENT_ID   HADM_ID  ICUSTAY_ID  FIRST_WARDID  LAST_WARDID  LOS_days  \\\n",
       "0       268.0  110404.0    280836.0          52.0         52.0    3.2490   \n",
       "1       269.0  106296.0    206613.0          52.0         52.0    3.2788   \n",
       "2       270.0  188028.0    220345.0          57.0         57.0    2.8939   \n",
       "3       271.0  173727.0    249196.0          52.0         23.0    2.0600   \n",
       "4       272.0  164716.0    210407.0          57.0         57.0    1.6202   \n",
       "\n",
       "   HAS_CHARTEVENTS_DATA  gender  EXPIRE_FLAG   age  ...  respiratoryrate  \\\n",
       "0                   1.0     0.0          1.0  66.0  ...        19.163494   \n",
       "1                   1.0     1.0          0.0  40.0  ...        19.163494   \n",
       "2                   1.0     1.0          0.0  80.0  ...        19.163494   \n",
       "3                   1.0     0.0          0.0  46.0  ...        19.163494   \n",
       "4                   1.0     1.0          0.0  67.0  ...        19.163494   \n",
       "\n",
       "        sao2  systemicsystolic  temperature     motor   urine  \\\n",
       "0  98.060368        122.739111    44.218974  3.818182   530.0   \n",
       "1  98.060368        122.739111    44.218974  6.000000  9920.0   \n",
       "2  98.060368        122.739111    44.218974  6.000000  5805.0   \n",
       "3  98.060368        122.739111    44.218974  6.000000  3400.0   \n",
       "4  98.060368        122.739111    44.218974  6.000000  5625.0   \n",
       "\n",
       "   outputtotal_mean  intaketotal_mean  admissionweight  \\\n",
       "0         42.413793         249.61401        79.573338   \n",
       "1        268.108108         249.61401        79.573338   \n",
       "2        223.269231         249.61401        79.573338   \n",
       "3        100.000000         249.61401        79.573338   \n",
       "4        208.333333         249.61401        79.573338   \n",
       "\n",
       "   actualhospitalmortality  \n",
       "0                        1  \n",
       "1                        0  \n",
       "2                        0  \n",
       "3                        0  \n",
       "4                        0  \n",
       "\n",
       "[5 rows x 42 columns]"
      ]
     },
     "execution_count": 76,
     "metadata": {},
     "output_type": "execute_result"
    }
   ],
   "source": [
    "mimic_df.head()"
   ]
  },
  {
   "cell_type": "markdown",
   "id": "86803f3e",
   "metadata": {},
   "source": [
    "optimized_features = ['age', 'admissionweight', 'respiratoryrate', 'ph', 'bun',\n",
    "       'glucose', 'motor',\n",
    "       'mean_BUN', 'mean_Hgb', 'mean_WBC x 1000', 'mean_chloride',\n",
    "       'mean_creatinine', 'mean_glucose', 'mean_lactate', 'mean_pH',\n",
    "       'mean_paCO2', 'mean_paO2', 'mean_platelets x 1000', 'mean_potassium',\n",
    "       'mean_sodium', 'mean_total bilirubin', 'heartrate', 'respiration',\n",
    "       'temperature', 'sao2', 'systemicdiastolic', 'systemicmean',\n",
    "       'systemicsystolic', 'outputtotal_mean', 'LOS_days','actualhospitalmortality']\n",
    "\n",
    "mimic_df = mimic_df[selected_features]"
   ]
  },
  {
   "cell_type": "markdown",
   "id": "a0e6dc78",
   "metadata": {
    "scrolled": false
   },
   "source": [
    "selected_features = ['age', 'admissionweight', 'respiratoryrate', 'ph', 'bun',\n",
    "       'glucose', 'motor',\n",
    "       'mean_BUN', 'mean_Hgb', 'mean_WBC x 1000', 'mean_chloride',\n",
    "       'mean_creatinine', 'mean_glucose', 'mean_lactate', 'mean_pH',\n",
    "       'mean_paCO2', 'mean_paO2', 'mean_platelets x 1000', 'mean_potassium',\n",
    "       'mean_sodium', 'mean_total bilirubin', 'heartrate', 'respiration',\n",
    "       'temperature', 'sao2', 'systemicdiastolic', 'systemicmean',\n",
    "       'systemicsystolic', 'outputtotal_mean', 'LOS_days','actualhospitalmortality']\n",
    "\n",
    "mimic_df = mimic_df[selected_features]"
   ]
  },
  {
   "cell_type": "code",
   "execution_count": 77,
   "id": "fdb7bb8c",
   "metadata": {},
   "outputs": [
    {
     "data": {
      "text/html": [
       "<div>\n",
       "<style scoped>\n",
       "    .dataframe tbody tr th:only-of-type {\n",
       "        vertical-align: middle;\n",
       "    }\n",
       "\n",
       "    .dataframe tbody tr th {\n",
       "        vertical-align: top;\n",
       "    }\n",
       "\n",
       "    .dataframe thead th {\n",
       "        text-align: right;\n",
       "    }\n",
       "</style>\n",
       "<table border=\"1\" class=\"dataframe\">\n",
       "  <thead>\n",
       "    <tr style=\"text-align: right;\">\n",
       "      <th></th>\n",
       "      <th>PATIENT_ID</th>\n",
       "      <th>HADM_ID</th>\n",
       "      <th>ICUSTAY_ID</th>\n",
       "      <th>FIRST_WARDID</th>\n",
       "      <th>LAST_WARDID</th>\n",
       "      <th>LOS_days</th>\n",
       "      <th>HAS_CHARTEVENTS_DATA</th>\n",
       "      <th>gender</th>\n",
       "      <th>EXPIRE_FLAG</th>\n",
       "      <th>age</th>\n",
       "      <th>...</th>\n",
       "      <th>respiratoryrate</th>\n",
       "      <th>sao2</th>\n",
       "      <th>systemicsystolic</th>\n",
       "      <th>temperature</th>\n",
       "      <th>motor</th>\n",
       "      <th>urine</th>\n",
       "      <th>outputtotal_mean</th>\n",
       "      <th>intaketotal_mean</th>\n",
       "      <th>admissionweight</th>\n",
       "      <th>actualhospitalmortality</th>\n",
       "    </tr>\n",
       "  </thead>\n",
       "  <tbody>\n",
       "    <tr>\n",
       "      <th>0</th>\n",
       "      <td>268.0</td>\n",
       "      <td>110404.0</td>\n",
       "      <td>280836.0</td>\n",
       "      <td>52.0</td>\n",
       "      <td>52.0</td>\n",
       "      <td>3.2490</td>\n",
       "      <td>1.0</td>\n",
       "      <td>0.0</td>\n",
       "      <td>1.0</td>\n",
       "      <td>66.0</td>\n",
       "      <td>...</td>\n",
       "      <td>19.163494</td>\n",
       "      <td>98.060368</td>\n",
       "      <td>122.739111</td>\n",
       "      <td>44.218974</td>\n",
       "      <td>3.818182</td>\n",
       "      <td>530.0</td>\n",
       "      <td>42.413793</td>\n",
       "      <td>249.61401</td>\n",
       "      <td>79.573338</td>\n",
       "      <td>1</td>\n",
       "    </tr>\n",
       "    <tr>\n",
       "      <th>1</th>\n",
       "      <td>269.0</td>\n",
       "      <td>106296.0</td>\n",
       "      <td>206613.0</td>\n",
       "      <td>52.0</td>\n",
       "      <td>52.0</td>\n",
       "      <td>3.2788</td>\n",
       "      <td>1.0</td>\n",
       "      <td>1.0</td>\n",
       "      <td>0.0</td>\n",
       "      <td>40.0</td>\n",
       "      <td>...</td>\n",
       "      <td>19.163494</td>\n",
       "      <td>98.060368</td>\n",
       "      <td>122.739111</td>\n",
       "      <td>44.218974</td>\n",
       "      <td>6.000000</td>\n",
       "      <td>9920.0</td>\n",
       "      <td>268.108108</td>\n",
       "      <td>249.61401</td>\n",
       "      <td>79.573338</td>\n",
       "      <td>0</td>\n",
       "    </tr>\n",
       "    <tr>\n",
       "      <th>2</th>\n",
       "      <td>270.0</td>\n",
       "      <td>188028.0</td>\n",
       "      <td>220345.0</td>\n",
       "      <td>57.0</td>\n",
       "      <td>57.0</td>\n",
       "      <td>2.8939</td>\n",
       "      <td>1.0</td>\n",
       "      <td>1.0</td>\n",
       "      <td>0.0</td>\n",
       "      <td>80.0</td>\n",
       "      <td>...</td>\n",
       "      <td>19.163494</td>\n",
       "      <td>98.060368</td>\n",
       "      <td>122.739111</td>\n",
       "      <td>44.218974</td>\n",
       "      <td>6.000000</td>\n",
       "      <td>5805.0</td>\n",
       "      <td>223.269231</td>\n",
       "      <td>249.61401</td>\n",
       "      <td>79.573338</td>\n",
       "      <td>0</td>\n",
       "    </tr>\n",
       "    <tr>\n",
       "      <th>3</th>\n",
       "      <td>271.0</td>\n",
       "      <td>173727.0</td>\n",
       "      <td>249196.0</td>\n",
       "      <td>52.0</td>\n",
       "      <td>23.0</td>\n",
       "      <td>2.0600</td>\n",
       "      <td>1.0</td>\n",
       "      <td>0.0</td>\n",
       "      <td>0.0</td>\n",
       "      <td>46.0</td>\n",
       "      <td>...</td>\n",
       "      <td>19.163494</td>\n",
       "      <td>98.060368</td>\n",
       "      <td>122.739111</td>\n",
       "      <td>44.218974</td>\n",
       "      <td>6.000000</td>\n",
       "      <td>3400.0</td>\n",
       "      <td>100.000000</td>\n",
       "      <td>249.61401</td>\n",
       "      <td>79.573338</td>\n",
       "      <td>0</td>\n",
       "    </tr>\n",
       "    <tr>\n",
       "      <th>4</th>\n",
       "      <td>272.0</td>\n",
       "      <td>164716.0</td>\n",
       "      <td>210407.0</td>\n",
       "      <td>57.0</td>\n",
       "      <td>57.0</td>\n",
       "      <td>1.6202</td>\n",
       "      <td>1.0</td>\n",
       "      <td>1.0</td>\n",
       "      <td>0.0</td>\n",
       "      <td>67.0</td>\n",
       "      <td>...</td>\n",
       "      <td>19.163494</td>\n",
       "      <td>98.060368</td>\n",
       "      <td>122.739111</td>\n",
       "      <td>44.218974</td>\n",
       "      <td>6.000000</td>\n",
       "      <td>5625.0</td>\n",
       "      <td>208.333333</td>\n",
       "      <td>249.61401</td>\n",
       "      <td>79.573338</td>\n",
       "      <td>0</td>\n",
       "    </tr>\n",
       "  </tbody>\n",
       "</table>\n",
       "<p>5 rows × 42 columns</p>\n",
       "</div>"
      ],
      "text/plain": [
       "   PATIENT_ID   HADM_ID  ICUSTAY_ID  FIRST_WARDID  LAST_WARDID  LOS_days  \\\n",
       "0       268.0  110404.0    280836.0          52.0         52.0    3.2490   \n",
       "1       269.0  106296.0    206613.0          52.0         52.0    3.2788   \n",
       "2       270.0  188028.0    220345.0          57.0         57.0    2.8939   \n",
       "3       271.0  173727.0    249196.0          52.0         23.0    2.0600   \n",
       "4       272.0  164716.0    210407.0          57.0         57.0    1.6202   \n",
       "\n",
       "   HAS_CHARTEVENTS_DATA  gender  EXPIRE_FLAG   age  ...  respiratoryrate  \\\n",
       "0                   1.0     0.0          1.0  66.0  ...        19.163494   \n",
       "1                   1.0     1.0          0.0  40.0  ...        19.163494   \n",
       "2                   1.0     1.0          0.0  80.0  ...        19.163494   \n",
       "3                   1.0     0.0          0.0  46.0  ...        19.163494   \n",
       "4                   1.0     1.0          0.0  67.0  ...        19.163494   \n",
       "\n",
       "        sao2  systemicsystolic  temperature     motor   urine  \\\n",
       "0  98.060368        122.739111    44.218974  3.818182   530.0   \n",
       "1  98.060368        122.739111    44.218974  6.000000  9920.0   \n",
       "2  98.060368        122.739111    44.218974  6.000000  5805.0   \n",
       "3  98.060368        122.739111    44.218974  6.000000  3400.0   \n",
       "4  98.060368        122.739111    44.218974  6.000000  5625.0   \n",
       "\n",
       "   outputtotal_mean  intaketotal_mean  admissionweight  \\\n",
       "0         42.413793         249.61401        79.573338   \n",
       "1        268.108108         249.61401        79.573338   \n",
       "2        223.269231         249.61401        79.573338   \n",
       "3        100.000000         249.61401        79.573338   \n",
       "4        208.333333         249.61401        79.573338   \n",
       "\n",
       "   actualhospitalmortality  \n",
       "0                        1  \n",
       "1                        0  \n",
       "2                        0  \n",
       "3                        0  \n",
       "4                        0  \n",
       "\n",
       "[5 rows x 42 columns]"
      ]
     },
     "execution_count": 77,
     "metadata": {},
     "output_type": "execute_result"
    }
   ],
   "source": [
    "mimic_df.head()"
   ]
  },
  {
   "cell_type": "code",
   "execution_count": 78,
   "id": "46c0ca00",
   "metadata": {},
   "outputs": [
    {
     "data": {
      "text/plain": [
       "Index(['PATIENT_ID', 'HADM_ID', 'ICUSTAY_ID', 'FIRST_WARDID', 'LAST_WARDID',\n",
       "       'LOS_days', 'HAS_CHARTEVENTS_DATA', 'gender', 'EXPIRE_FLAG', 'age',\n",
       "       'albumin', 'mean_total bilirubin', 'mean_BUN', 'mean_chloride',\n",
       "       'mean_creatinine', 'mean_glucose', 'mean_Hgb', 'mean_lactate',\n",
       "       'mean_paO2', 'mean_paCO2', 'mean_pH', 'mean_platelets x 1000',\n",
       "       'mean_potassium', 'mean_sodium', 'mean_WBC x 1000', 'bun', 'glucose',\n",
       "       'ph', 'systemicdiastolic', 'heartrate', 'systemicmean', 'respiration',\n",
       "       'respiratoryrate', 'sao2', 'systemicsystolic', 'temperature', 'motor',\n",
       "       'urine', 'outputtotal_mean', 'intaketotal_mean', 'admissionweight',\n",
       "       'actualhospitalmortality'],\n",
       "      dtype='object')"
      ]
     },
     "execution_count": 78,
     "metadata": {},
     "output_type": "execute_result"
    }
   ],
   "source": [
    "mimic_df.columns"
   ]
  },
  {
   "cell_type": "code",
   "execution_count": 79,
   "id": "0ed55689",
   "metadata": {},
   "outputs": [
    {
     "name": "stdout",
     "output_type": "stream",
     "text": [
      "🚀 Estimated size of merged_df: 0.04 GB\n",
      "✅ Merged Mimic dataset saved as Parquet: merged_mimic_data.parquet\n"
     ]
    }
   ],
   "source": [
    "# Estimate memory usage\n",
    "mimic_df_size = mimic_df.memory_usage(deep=True).sum() / (1024 ** 3)\n",
    "print(f\"🚀 Estimated size of merged_df: {mimic_df_size:.2f} GB\")\n",
    "\n",
    "output_path = \"merged_mimic_data.parquet\"\n",
    "\n",
    "mimic_df.to_parquet(output_path, index=False)\n",
    "print(f\"✅ Merged Mimic dataset saved as Parquet: {output_path}\")"
   ]
  },
  {
   "cell_type": "code",
   "execution_count": null,
   "id": "0f05078b",
   "metadata": {},
   "outputs": [],
   "source": []
  },
  {
   "cell_type": "code",
   "execution_count": null,
   "id": "b505b82e",
   "metadata": {},
   "outputs": [],
   "source": []
  },
  {
   "cell_type": "code",
   "execution_count": null,
   "id": "a4645f1f",
   "metadata": {},
   "outputs": [],
   "source": []
  }
 ],
 "metadata": {
  "kernelspec": {
   "display_name": "Python 3 (ipykernel)",
   "language": "python",
   "name": "python3"
  },
  "language_info": {
   "codemirror_mode": {
    "name": "ipython",
    "version": 3
   },
   "file_extension": ".py",
   "mimetype": "text/x-python",
   "name": "python",
   "nbconvert_exporter": "python",
   "pygments_lexer": "ipython3",
   "version": "3.11.4"
  }
 },
 "nbformat": 4,
 "nbformat_minor": 5
}
